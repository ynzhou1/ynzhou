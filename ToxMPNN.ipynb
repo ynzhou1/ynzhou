{
 "cells": [
  {
   "cell_type": "code",
   "execution_count": 12,
   "id": "4423eeca-77e5-4b06-b560-6d1777a6e3f9",
   "metadata": {},
   "outputs": [],
   "source": [
    "from __future__ import print_function\n",
    "from __future__ import division\n",
    "from __future__ import unicode_literals\n",
    "\n",
    "import warnings\n",
    "import wandb\n",
    "import os\n",
    "import dgl\n",
    "import numpy as np\n",
    "import deepchem as dc\n",
    "import time\n",
    "import csv\n",
    "import tensorflow as tf\n",
    "import torch\n",
    "import pickle\n",
    "import pandas as pd\n",
    "from pandas import Series,DataFrame\n",
    "from sklearn.metrics import accuracy_score,roc_auc_score\n",
    "#from deepchem.molnet import load_tox\n",
    "from deepchem.molnet import load_tox33\n",
    "from deepchem.molnet.check_availability import CheckFeaturizer, CheckSplit\n",
    "from deepchem.molnet.preset_hyper_parameters import hps\n",
    "from sklearn.metrics import roc_auc_score  # noqa\n",
    "from deepchem.models.torch_models import MPNNModel\n",
    "warnings.filterwarnings('ignore')\n",
    "os.environ['TF_XLA_FLAGS'] = '–tf_xla_enable_xla_devices'"
   ]
  },
  {
   "cell_type": "code",
   "execution_count": null,
   "id": "e3c5b850-e369-46c2-8dca-4b1d213bb99f",
   "metadata": {
    "jupyter": {
     "source_hidden": true
    },
    "tags": []
   },
   "outputs": [],
   "source": [
    "\"\"\"选择分子特征\"\"\"\n",
    "\n",
    "#图像特征\n",
    "g_feat = dc.feat.ConvMolFeaturizer(per_atom_fragmentation=False)()\n",
    "g_feat = dc.feat.WeaveFeaturizer()\n",
    "g_feat = dc.feat.MolGanFeaturizer()\n",
    "g_feat = dc.feat.MolGraphConvFeaturizer(use_edges=True)\n",
    "\n",
    "#数组特征\n",
    "feat = dc.feat.MACCSKeysFingerprint()\n",
    "feat = dc.feat.CircularFingerprint(size=2048, radius=4)\n",
    "feat = dc.feat.RDKitDescriptors()\n",
    "feat = dc.feat.MordredDescriptors()\n",
    "feat = dc.feat.OneHotFeaturizer()\n",
    "feat = dc.feat.SmilesToImage(img_size=80, img_spec='std')\n",
    "\n",
    "splitters = {\n",
    "    'index': dc.splits.IndexSplitter(),\n",
    "    'random': dc.splits.RandomSplitter(),\n",
    "    'scaffold': dc.splits.ScaffoldSplitter(),\n",
    "    'butina': dc.splits.ButinaSplitter(),\n",
    "    'fingerprint': dc.splits.FingerprintSplitter(),\n",
    "    'task': dc.splits.TaskSplitter(),\n",
    "    'stratified': dc.splits.RandomStratifiedSplitter()\n",
    "}\n",
    "\n",
    "transformers = {\n",
    "    'balancing':\n",
    "    TransformerGenerator(dc.trans.BalancingTransformer),\n",
    "    'normalization':\n",
    "    TransformerGenerator(dc.trans.NormalizationTransformer, transform_y=True),\n",
    "    'minmax':\n",
    "    TransformerGenerator(dc.trans.MinMaxTransformer, transform_y=True),\n",
    "    'clipping':\n",
    "    TransformerGenerator(dc.trans.ClippingTransformer, transform_y=True),\n",
    "    'log':\n",
    "    TransformerGenerator(dc.trans.LogTransformer, transform_y=True)\n",
    "}\n",
    "# Install wandb in shell\n",
    "pip install wandb\n",
    "\n",
    "# Login in shell (required only once)\n",
    "wandb login\n",
    "# # Login in notebook (required only once)\n",
    "import wandb\n",
    "wandb.login()\n",
    "\n",
    "# # Initialize a WandbLogger\n",
    "logger = WandbLogger(…)\n",
    "\n",
    "# Set `wandb_logger` when creating `KerasModel`\n",
    "import deepchem as dc\n",
    "# Log training loss to wandb\n",
    "model = dc.models.KerasModel(…, wandb_logger=logger)\n",
    "model.fit(…)\n",
    "\n",
    "# Log validation metrics to wandb using ValidationCallback\n",
    "import deepchem as dc\n",
    "vc = dc.models.ValidationCallback(…)\n",
    "model = KerasModel(…, wandb_logger=logger)\n",
    "model.fit(…, callbacks=[vc])\n",
    "logger.finish()\n",
    "wandb.watch(model)#pytorch模型可用"
   ]
  },
  {
   "cell_type": "code",
   "execution_count": null,
   "id": "12c07b97-37cc-4aa2-9817-61f439698468",
   "metadata": {},
   "outputs": [],
   "source": [
    "\"\"\"\" 一.加载数据集和表征数据集\"\"\"\n",
    "g_feat = dc.feat.MolGraphConvFeaturizer(use_edges=True)\n",
    "tox_tasks, tox_datasets, transformers = load_tox(featurizer=g_feat, splitter='random')\n",
    "train_dataset, valid_dataset, test_dataset = tox_datasets"
   ]
  },
  {
   "cell_type": "code",
   "execution_count": 3,
   "id": "9c42bf95-05d7-4462-b201-9cc6f615df5f",
   "metadata": {
    "tags": []
   },
   "outputs": [
    {
     "name": "stdout",
     "output_type": "stream",
     "text": [
      "<DiskDataset X.shape: (5260,), y.shape: (5260, 1), w.shape: (5260, 1), task_names: ['tox']>\n"
     ]
    },
    {
     "data": {
      "text/html": [
       "<div>\n",
       "<style scoped>\n",
       "    .dataframe tbody tr th:only-of-type {\n",
       "        vertical-align: middle;\n",
       "    }\n",
       "\n",
       "    .dataframe tbody tr th {\n",
       "        vertical-align: top;\n",
       "    }\n",
       "\n",
       "    .dataframe thead th {\n",
       "        text-align: right;\n",
       "    }\n",
       "</style>\n",
       "<table border=\"1\" class=\"dataframe\">\n",
       "  <thead>\n",
       "    <tr style=\"text-align: right;\">\n",
       "      <th></th>\n",
       "      <th>X</th>\n",
       "      <th>y</th>\n",
       "      <th>w</th>\n",
       "      <th>ids</th>\n",
       "    </tr>\n",
       "  </thead>\n",
       "  <tbody>\n",
       "    <tr>\n",
       "      <th>0</th>\n",
       "      <td>&lt;deepchem.feat.graph_data.GraphData object at ...</td>\n",
       "      <td>0.0</td>\n",
       "      <td>2.445452</td>\n",
       "      <td>O=C(O)CCc1ccccc1</td>\n",
       "    </tr>\n",
       "    <tr>\n",
       "      <th>1</th>\n",
       "      <td>&lt;deepchem.feat.graph_data.GraphData object at ...</td>\n",
       "      <td>1.0</td>\n",
       "      <td>1.691825</td>\n",
       "      <td>CCOC(=O)c1c(C)n(C)c2ccc(OC(=O)c3ccco3)cc12</td>\n",
       "    </tr>\n",
       "    <tr>\n",
       "      <th>2</th>\n",
       "      <td>&lt;deepchem.feat.graph_data.GraphData object at ...</td>\n",
       "      <td>1.0</td>\n",
       "      <td>1.691825</td>\n",
       "      <td>C=CCCCCCCCCCCCCCCCCC1CC(=O)OC1=O</td>\n",
       "    </tr>\n",
       "    <tr>\n",
       "      <th>3</th>\n",
       "      <td>&lt;deepchem.feat.graph_data.GraphData object at ...</td>\n",
       "      <td>0.0</td>\n",
       "      <td>2.445452</td>\n",
       "      <td>O=C(Oc1ccc([N+](=O)[O-])cc1)N1CCC(N2CCCCC2)CC1</td>\n",
       "    </tr>\n",
       "    <tr>\n",
       "      <th>4</th>\n",
       "      <td>&lt;deepchem.feat.graph_data.GraphData object at ...</td>\n",
       "      <td>0.0</td>\n",
       "      <td>2.445452</td>\n",
       "      <td>CCCOCCOCCOCCO</td>\n",
       "    </tr>\n",
       "    <tr>\n",
       "      <th>...</th>\n",
       "      <td>...</td>\n",
       "      <td>...</td>\n",
       "      <td>...</td>\n",
       "      <td>...</td>\n",
       "    </tr>\n",
       "    <tr>\n",
       "      <th>5255</th>\n",
       "      <td>&lt;deepchem.feat.graph_data.GraphData object at ...</td>\n",
       "      <td>1.0</td>\n",
       "      <td>1.691825</td>\n",
       "      <td>CC(C)C12CN3CC(C(C)C)(CN(C1)C3c1cccnc1)C2=O</td>\n",
       "    </tr>\n",
       "    <tr>\n",
       "      <th>5256</th>\n",
       "      <td>&lt;deepchem.feat.graph_data.GraphData object at ...</td>\n",
       "      <td>0.0</td>\n",
       "      <td>2.445452</td>\n",
       "      <td>CC[n+]1ccccc1.O=S(=O)([O-])C(F)(F)F</td>\n",
       "    </tr>\n",
       "    <tr>\n",
       "      <th>5257</th>\n",
       "      <td>&lt;deepchem.feat.graph_data.GraphData object at ...</td>\n",
       "      <td>0.0</td>\n",
       "      <td>2.445452</td>\n",
       "      <td>CC(NC(=O)c1ccccc1)(C(=O)O)C(=O)O</td>\n",
       "    </tr>\n",
       "    <tr>\n",
       "      <th>5258</th>\n",
       "      <td>&lt;deepchem.feat.graph_data.GraphData object at ...</td>\n",
       "      <td>1.0</td>\n",
       "      <td>1.691825</td>\n",
       "      <td>CC(=O)N1CCOCC1</td>\n",
       "    </tr>\n",
       "    <tr>\n",
       "      <th>5259</th>\n",
       "      <td>&lt;deepchem.feat.graph_data.GraphData object at ...</td>\n",
       "      <td>1.0</td>\n",
       "      <td>1.691825</td>\n",
       "      <td>COc1ccc(CNc2ncnc3ccc(-c4ccccc4C#N)cc23)c(OC)c1</td>\n",
       "    </tr>\n",
       "  </tbody>\n",
       "</table>\n",
       "<p>5260 rows × 4 columns</p>\n",
       "</div>"
      ],
      "text/plain": [
       "                                                      X    y         w  \\\n",
       "0     <deepchem.feat.graph_data.GraphData object at ...  0.0  2.445452   \n",
       "1     <deepchem.feat.graph_data.GraphData object at ...  1.0  1.691825   \n",
       "2     <deepchem.feat.graph_data.GraphData object at ...  1.0  1.691825   \n",
       "3     <deepchem.feat.graph_data.GraphData object at ...  0.0  2.445452   \n",
       "4     <deepchem.feat.graph_data.GraphData object at ...  0.0  2.445452   \n",
       "...                                                 ...  ...       ...   \n",
       "5255  <deepchem.feat.graph_data.GraphData object at ...  1.0  1.691825   \n",
       "5256  <deepchem.feat.graph_data.GraphData object at ...  0.0  2.445452   \n",
       "5257  <deepchem.feat.graph_data.GraphData object at ...  0.0  2.445452   \n",
       "5258  <deepchem.feat.graph_data.GraphData object at ...  1.0  1.691825   \n",
       "5259  <deepchem.feat.graph_data.GraphData object at ...  1.0  1.691825   \n",
       "\n",
       "                                                 ids  \n",
       "0                                   O=C(O)CCc1ccccc1  \n",
       "1         CCOC(=O)c1c(C)n(C)c2ccc(OC(=O)c3ccco3)cc12  \n",
       "2                   C=CCCCCCCCCCCCCCCCCC1CC(=O)OC1=O  \n",
       "3     O=C(Oc1ccc([N+](=O)[O-])cc1)N1CCC(N2CCCCC2)CC1  \n",
       "4                                      CCCOCCOCCOCCO  \n",
       "...                                              ...  \n",
       "5255      CC(C)C12CN3CC(C(C)C)(CN(C1)C3c1cccnc1)C2=O  \n",
       "5256             CC[n+]1ccccc1.O=S(=O)([O-])C(F)(F)F  \n",
       "5257                CC(NC(=O)c1ccccc1)(C(=O)O)C(=O)O  \n",
       "5258                                  CC(=O)N1CCOCC1  \n",
       "5259  COc1ccc(CNc2ncnc3ccc(-c4ccccc4C#N)cc23)c(OC)c1  \n",
       "\n",
       "[5260 rows x 4 columns]"
      ]
     },
     "execution_count": 3,
     "metadata": {},
     "output_type": "execute_result"
    }
   ],
   "source": [
    "print(test_dataset)\n",
    "test_dataset.to_dataframe()"
   ]
  },
  {
   "cell_type": "code",
   "execution_count": null,
   "id": "7e4a506f-58c1-4fa4-8110-9c7246f7ed36",
   "metadata": {
    "collapsed": true,
    "jupyter": {
     "outputs_hidden": true,
     "source_hidden": true
    },
    "tags": []
   },
   "outputs": [],
   "source": [
    "\"\"\"二.定义模型可迭代的参数集合\"\"\"\n",
    "params_dict = {\n",
    "    'batch_size': 16,\n",
    "    'nb_epoch': 50,\n",
    "    'learning_rate': 0.001,\n",
    "    'T': 2,\n",
    "    'M': 5,\n",
    "    'seed': 123\n",
    "}\n",
    "\n",
    "\"\"\"三.寻找最优参数集合\"\"\"\n",
    "optimizer = dc.hyper.GridHyperparamOpt(dc.models.DAGModel)\n",
    "metric = dc.metrics.Metric(dc.metrics.roc_auc_score)\n",
    "best_model, best_hyperparams, all_results = optimizer.hyperparam_search(params_dict, \n",
    "                                                                        train_dataset, \n",
    "                                                                        valid_dataset, \n",
    "                                                                        metric, \n",
    "                                                                        transformers)"
   ]
  },
  {
   "cell_type": "code",
   "execution_count": null,
   "id": "14cffc8b-72b2-4be5-91be-bcd55e8e4616",
   "metadata": {
    "jupyter": {
     "source_hidden": true
    },
    "tags": []
   },
   "outputs": [],
   "source": [
    "'''查看最优参数'''\n",
    "print(best_hyperparams)\n",
    "print(\"\\n\")\n",
    "all_results"
   ]
  },
  {
   "cell_type": "code",
   "execution_count": null,
   "id": "4818c469-1c02-45a7-9735-683667dc712f",
   "metadata": {
    "tags": []
   },
   "outputs": [],
   "source": [
    "\"\"\"\"四.定义可视化模型Wandb及模型参数\"\"\"\n",
    "# Initialize wandb and save hyperparameters\n",
    "wandb.init(\n",
    "  project=\"model\",\n",
    "  config={\n",
    "    'T': 5,\n",
    "    'M': 10,\n",
    "    'seed': 123,\n",
    "    'batch_size': 100,\n",
    "    }\n",
    ")\n",
    "logger = wandb.config\n"
   ]
  },
  {
   "cell_type": "code",
   "execution_count": null,
   "id": "2ed1bcd4-b6ec-4bb2-97c5-14715b30a3e2",
   "metadata": {
    "tags": []
   },
   "outputs": [],
   "source": [
    "\"\"\"五.建立模型，并寻找最优参数的周期\"\"\"\n",
    "learning_rate = dc.models.optimizers.ExponentialDecay(0.001, 0.8, 1000)\n",
    "'''定义评价指标'''\n",
    "#metric = dc.metrics.Metric(dc.metrics.roc_auc_score, dc.metrics.precision_recall_curve,dc.metrics.accuracy_score,np.mean)\n",
    "metric = dc.metrics.Metric(dc.metrics.roc_auc_score,np.mean)\n",
    "'''定义损失函数'''\n",
    "#loss_fuc = dc.models.losses.SigmoidCrossEntropy\n",
    "'''定义模型参数'''\n",
    "#n_features=[30, 11]\n",
    "model = MPNNModel(mode='classification',\n",
    "                  n_tasks=1,\n",
    "                  batch_size=16,\n",
    "                  learning_rate=0.001\n",
    "                  )\n",
    "callback = dc.models.ValidationCallback(valid_dataset,1000,metric)\n",
    "#WandbCallback()\n",
    "loss= model.fit(train_dataset, nb_epoch=5)"
   ]
  },
  {
   "cell_type": "code",
   "execution_count": 8,
   "id": "0b01fbd3-b581-4447-902e-ccb92c49277d",
   "metadata": {},
   "outputs": [
    {
     "data": {
      "text/plain": [
       "1.2283301544189453"
      ]
     },
     "execution_count": 8,
     "metadata": {},
     "output_type": "execute_result"
    }
   ],
   "source": [
    "loss"
   ]
  },
  {
   "cell_type": "code",
   "execution_count": null,
   "id": "793dbbd2-a898-45ae-b952-7462468ce37a",
   "metadata": {},
   "outputs": [],
   "source": [
    "logger.finish()"
   ]
  },
  {
   "cell_type": "code",
   "execution_count": null,
   "id": "9ee306cc-831d-4c9a-8eb1-ec095ca91459",
   "metadata": {},
   "outputs": [],
   "source": [
    "'''打印模型评估分数'''\n",
    "print(\"Evaluating model\")\n",
    "train_scores = model.evaluate(train_dataset, [metric], transformers)\n",
    "valid_scores = model.evaluate(valid_dataset, [metric], transformers)\n",
    "test_scores = model.evaluate(test_dataset, [metric], transformers)\n",
    "\n",
    "print(\"Train scores\")\n",
    "print(train_scores)\n",
    "\n",
    "print(\"Validation scores\")\n",
    "print(valid_scores)\n",
    "\n",
    "print(\"test scores\")\n",
    "print(test_scores)"
   ]
  },
  {
   "cell_type": "code",
   "execution_count": null,
   "id": "bbdd35c1-d50f-41c3-a5fe-58517e4f2f03",
   "metadata": {},
   "outputs": [],
   "source": [
    "\"\"\"加载外部数据集\"\"\"\n",
    "dataset_file = \"/home/deepchem/datasets/Hepatotoxicity.csv\"\n",
    "\n",
    "\n",
    "task = ['Hepatotoxicity']\n",
    "g_feat = dc.feat.ConvMolFeaturizer()\n",
    "\n",
    "loader = dc.data.data_loader.CSVLoader(tasks=task, smiles_field=\"smiles\", featurizer=g_feat)\n",
    "dataset = loader.create_dataset(dataset_file)\n",
    "\n",
    "transformer = dc.trans.BalancingTransformer(dataset=dataset)\n",
    "dataset = transformer.transform(dataset)\n",
    "dataset"
   ]
  },
  {
   "cell_type": "code",
   "execution_count": null,
   "id": "1e289fb5-eed2-457c-af5a-b730d32875ea",
   "metadata": {
    "tags": []
   },
   "outputs": [],
   "source": [
    "\"\"\"预测\"\"\"\n",
    "'''预测外部数据集'''\n",
    "# pred_task = tox21_tasks\n",
    "# pred_file = \"./test_datasets/TMC_ZINC_35308_CSV - 副本.csv\"\n",
    "# graph_featurizer = dc.feat.graph_features.ConvMolFeaturizer()\n",
    "# pred_loader = dc.data.data_loader.CSVLoader(tasks=pred_task, smiles_field=\"smiles\", featurizer=graph_featurizer)\n",
    "# pred_dataset_featurized = pred_loader.featurize(pred_file)\n",
    "'''预测并转换为Dataframe 格式'''\n",
    "predict = model.predict(dataset,transformer)\n",
    "print(predict.shape)\n",
    "# pred_scores = model.evaluate(dataset, [metric], transformers)\n",
    "# print(pred_scores)\n",
    "# df = pd.DataFrame.from_records(predict,index=dataset.ids)\n",
    "# df.insert(0,'labels',dataset.y)\n",
    "# df.to_csv(\"/home/deepchem/pred/pred_file.csv\")\n",
    "'''计算预测结果的AUC值'''\n",
    "\n",
    "# y_pred= predict[:,:,1].reshape(1313)\n",
    "# y_true= dataset.y.reshape(1313)\n",
    "# roc_auc_score(y_true, y_pred)"
   ]
  },
  {
   "cell_type": "code",
   "execution_count": null,
   "id": "614baa54-bb98-4f37-af2d-280f70da64d8",
   "metadata": {},
   "outputs": [],
   "source": [
    "y_pred= predict[:,:,1].reshape(1313)\n",
    "y_pred\n",
    "\n",
    "y_true= dataset.y.reshape(1313)\n",
    "y_true"
   ]
  },
  {
   "cell_type": "code",
   "execution_count": null,
   "id": "e27b27c2-67ae-4a7c-b7a1-980422723b7d",
   "metadata": {},
   "outputs": [],
   "source": [
    "\"\"\"精确度评分数据处理\"\"\"\n",
    "a = []\n",
    "for i in y_pred:\n",
    "     #print(i)\n",
    "    if i > 0.5:\n",
    "        i = 1;\n",
    "    else:\n",
    "        i = 0;\n",
    "    a.append(i)\n",
    "y_pred_int=np.array(a)\n",
    "met = dc.metrics.accuracy_score(y_true, y_pred_int)\n",
    "met"
   ]
  },
  {
   "cell_type": "code",
   "execution_count": null,
   "id": "db941e33-7d29-4e90-ac2c-dc7b532d3c4a",
   "metadata": {},
   "outputs": [],
   "source": [
    "b = np.array(a)\n",
    "type(b)\n",
    "accuracy_score(y_true, b)"
   ]
  }
 ],
 "metadata": {
  "kernelspec": {
   "display_name": "Python 3",
   "language": "python",
   "name": "python3"
  },
  "language_info": {
   "codemirror_mode": {
    "name": "ipython",
    "version": 3
   },
   "file_extension": ".py",
   "mimetype": "text/x-python",
   "name": "python",
   "nbconvert_exporter": "python",
   "pygments_lexer": "ipython3",
   "version": "3.6.13"
  }
 },
 "nbformat": 4,
 "nbformat_minor": 5
}
